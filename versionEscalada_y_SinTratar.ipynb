{
 "cells": [
  {
   "cell_type": "code",
   "execution_count": null,
   "metadata": {
    "vscode": {
     "languageId": "plaintext"
    }
   },
   "outputs": [],
   "source": [
    "# from sklearn.ensemble import BaggingRegressor\n",
    "# from sklearn.tree import DecisionTreeRegressor\n",
    "\n",
    "# bagging_reg = BaggingRegressor(DecisionTreeRegressor(max_depth=20),\n",
    "#                                n_estimators=100,\n",
    "#                                max_samples = 500)\n",
    "\n",
    "# bagging_reg.fit(X_train, y_train)"
   ]
  },
  {
   "cell_type": "code",
   "execution_count": null,
   "metadata": {
    "vscode": {
     "languageId": "plaintext"
    }
   },
   "outputs": [],
   "source": [
    "# from sklearn.metrics import r2_score, mean_absolute_error, root_mean_squared_error\n",
    "\n",
    "# pred = bagging_reg.predict(X_test)\n",
    "\n",
    "# print(\"MAE\", mean_absolute_error(pred, y_test))\n",
    "# print(\"RMSE\", root_mean_squared_error(pred, y_test))\n",
    "# print(\"R2 score\", bagging_reg.score(X_test, y_test))"
   ]
  },
  {
   "cell_type": "code",
   "execution_count": null,
   "metadata": {
    "vscode": {
     "languageId": "plaintext"
    }
   },
   "outputs": [],
   "source": [
    "# 3. Con scaling\n",
    "\n",
    "scaler = StandardScaler()       \n",
    "X_train_scaling = scaler.fit_transform(X_train)\n",
    "X_train_scaling = pd.DataFrame(X_train_scaling, columns = X_train.columns)\n",
    "\n",
    "X_test_scaling = scaler.transform(X_test)\n",
    "X_test_scaling = pd.DataFrame(X_test_scaling, columns = X_test.columns)"
   ]
  },
  {
   "cell_type": "code",
   "execution_count": null,
   "metadata": {
    "vscode": {
     "languageId": "plaintext"
    }
   },
   "outputs": [],
   "source": [
    "bagging_reg_scal= BaggingRegressor(DecisionTreeRegressor(max_depth=20),\n",
    "                               n_estimators=100,\n",
    "                               max_samples = 500)\n",
    "\n",
    "bagging_reg_scal.fit(X_train_scaling, y_train)"
   ]
  },
  {
   "cell_type": "code",
   "execution_count": null,
   "metadata": {
    "vscode": {
     "languageId": "plaintext"
    }
   },
   "outputs": [],
   "source": [
    "pred_scal = bagging_reg_scal.predict(X_test_scaling)\n",
    "\n",
    "print(\"MAE\", mean_absolute_error(pred_scal, y_test))\n",
    "print(\"RMSE\", root_mean_squared_error(pred_scal, y_test))\n",
    "print(\"R2 score\", bagging_reg_scal.score(X_test_scaling, y_test))"
   ]
  }
 ],
 "metadata": {
  "language_info": {
   "name": "python"
  }
 },
 "nbformat": 4,
 "nbformat_minor": 2
}
